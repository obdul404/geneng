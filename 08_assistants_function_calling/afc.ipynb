{
 "cells": [
  {
   "cell_type": "code",
   "execution_count": 40,
   "metadata": {},
   "outputs": [
    {
     "name": "stdout",
     "output_type": "stream",
     "text": [
      "Assistant Function Calling\n"
     ]
    }
   ],
   "source": [
    "print(\"Assistant Function Calling\")"
   ]
  },
  {
   "cell_type": "code",
   "execution_count": 41,
   "metadata": {},
   "outputs": [],
   "source": [
    "from openai import OpenAI\n",
    "import time\n",
    "import json\n"
   ]
  },
  {
   "cell_type": "code",
   "execution_count": 42,
   "metadata": {},
   "outputs": [],
   "source": [
    "client: OpenAI = OpenAI()"
   ]
  },
  {
   "cell_type": "markdown",
   "metadata": {},
   "source": [
    "Step 0: Define functions"
   ]
  },
  {
   "cell_type": "code",
   "execution_count": 43,
   "metadata": {},
   "outputs": [],
   "source": [
    "def getNickname(location:str)->str:\n",
    "    \"\"\"Get the nickname of a city\"\"\"\n",
    "    if \"tokyo\" in location.lower():\n",
    "        return \"tk\"\n",
    "    elif \"los angeles\" in location.lower():\n",
    "        return \"la\"\n",
    "    elif \"paris\" in location.lower():\n",
    "        return \"py\"\n",
    "    else:\n",
    "        return location\n",
    "    \n",
    "def getCurrentWeather(location:str, unit:str=\"fahrenheit\")->str | dict | None:\n",
    "    \"\"\"Get the current weather in a given location\"\"\"\n",
    "    if \"tokyo\" in location.lower():\n",
    "        return json.dumps({\"location\": \"Tokyo\", \"temperature\": \"10\", \"unit\": \"celsius\"})\n",
    "    elif \"los angeles\" in location.lower():\n",
    "        return json.dumps({\"location\": \"San Francisco\", \"temperature\": \"72\", \"unit\": \"fahrenheit\"})\n",
    "    elif \"paris\" in location.lower():\n",
    "        return json.dumps({\"location\": \"Paris\", \"temperature\": \"22\", \"unit\": \"celsius\"})\n",
    "    else:\n",
    "        return json.dumps({\"location\": location, \"temperature\": \"unknown\"})"
   ]
  },
  {
   "cell_type": "code",
   "execution_count": 44,
   "metadata": {},
   "outputs": [],
   "source": [
    "def show_json(message, obj):\n",
    "    display(message, json.loads(obj.model_dump_json()))"
   ]
  },
  {
   "cell_type": "code",
   "execution_count": 45,
   "metadata": {},
   "outputs": [],
   "source": [
    "from openai.types.beta.assistant import Assistant\n",
    "from typing import List,Dict\n",
    "\n",
    "tools :List[Dict] = [\n",
    "    {\n",
    "        \"type\":\"function\",\n",
    "        \"function\":{\n",
    "            \"name\": \"getNickname\",\n",
    "            \"description\": \"Get the nickname of a city\",\n",
    "            \"parameters\":{\n",
    "                \"type\":\"object\",\n",
    "                \"properties\":{\n",
    "                    \"location\":{\n",
    "                        \"type\":\"string\",\n",
    "                        \"description\":\"The city or state\"\n",
    "                    }\n",
    "                },\n",
    "                \"required\": [\"location\"]\n",
    "            }\n",
    "        }\n",
    "    },\n",
    "    {\n",
    "        \"type\": \"function\",\n",
    "        \"function\": {\n",
    "            \"name\": \"getCurrentWeather\",\n",
    "            \"description\": \"Get the weather in location\",\n",
    "            \"parameters\": {\n",
    "                \"type\": \"object\",\n",
    "                \"properties\": {\n",
    "                    \"location\": {\"type\": \"string\", \"description\": \"The city and state e.g. San Francisco, CA\"},\n",
    "                    \"unit\": {\"type\": \"string\", \"enum\": [\"c\", \"f\"]}\n",
    "                        },\n",
    "                \"required\": [\"location\"]\n",
    "            }\n",
    "        }\n",
    "    }\n",
    "]\n",
    "     \n",
    "assistant: Assistant = client.beta.assistants.create(\n",
    "    instructions=\"You are a weather bot and provide user with answers\",\n",
    "    model=\"gpt-3.5-turbo-1106\",\n",
    "    name=\"Weather bot\",\n",
    "    tools=tools\n",
    ")"
   ]
  },
  {
   "cell_type": "code",
   "execution_count": 46,
   "metadata": {},
   "outputs": [],
   "source": [
    "from openai.types.beta.thread import Thread\n",
    "\n",
    "thread: Thread = client.beta.threads.create()"
   ]
  },
  {
   "cell_type": "code",
   "execution_count": 51,
   "metadata": {},
   "outputs": [],
   "source": [
    "from openai.types.beta.threads.thread_message import ThreadMessage\n",
    "\n",
    "message: ThreadMessage = client.beta.threads.messages.create(\n",
    "    thread_id=thread.id,\n",
    "    role=\"user\",\n",
    "    content=\"What is temprature in tokyo\"\n",
    ")"
   ]
  },
  {
   "cell_type": "code",
   "execution_count": 52,
   "metadata": {},
   "outputs": [
    {
     "data": {
      "text/plain": [
       "'ThreadMessage'"
      ]
     },
     "metadata": {},
     "output_type": "display_data"
    },
    {
     "data": {
      "text/plain": [
       "{'id': 'msg_6VQJYCFWzib1I7NP1VjcTxq7',\n",
       " 'assistant_id': None,\n",
       " 'content': [{'text': {'annotations': [],\n",
       "    'value': 'What is temprature in tokyo'},\n",
       "   'type': 'text'}],\n",
       " 'created_at': 1701990915,\n",
       " 'file_ids': [],\n",
       " 'metadata': {},\n",
       " 'object': 'thread.message',\n",
       " 'role': 'user',\n",
       " 'run_id': None,\n",
       " 'thread_id': 'thread_IeJuODd3KQBiAGnmQpjqCNgo'}"
      ]
     },
     "metadata": {},
     "output_type": "display_data"
    }
   ],
   "source": [
    "show_json(\"ThreadMessage\",message)"
   ]
  },
  {
   "cell_type": "code",
   "execution_count": 53,
   "metadata": {},
   "outputs": [
    {
     "data": {
      "text/plain": [
       "'Run'"
      ]
     },
     "metadata": {},
     "output_type": "display_data"
    },
    {
     "data": {
      "text/plain": [
       "{'id': 'run_5SPvKIuwzoN1GujIdmHJuDxk',\n",
       " 'assistant_id': 'asst_MZe4YICwxFRmVpLeDQhHMI8Y',\n",
       " 'cancelled_at': None,\n",
       " 'completed_at': None,\n",
       " 'created_at': 1701990918,\n",
       " 'expires_at': 1701991518,\n",
       " 'failed_at': None,\n",
       " 'file_ids': [],\n",
       " 'instructions': 'You are a weather bot and provide user with answers',\n",
       " 'last_error': None,\n",
       " 'metadata': {},\n",
       " 'model': 'gpt-3.5-turbo-1106',\n",
       " 'object': 'thread.run',\n",
       " 'required_action': None,\n",
       " 'started_at': None,\n",
       " 'status': 'queued',\n",
       " 'thread_id': 'thread_IeJuODd3KQBiAGnmQpjqCNgo',\n",
       " 'tools': [{'function': {'name': 'getNickname',\n",
       "    'parameters': {'type': 'object',\n",
       "     'properties': {'location': {'type': 'string',\n",
       "       'description': 'The city or state'}},\n",
       "     'required': ['location']},\n",
       "    'description': 'Get the nickname of a city'},\n",
       "   'type': 'function'},\n",
       "  {'function': {'name': 'getCurrentWeather',\n",
       "    'parameters': {'type': 'object',\n",
       "     'properties': {'location': {'type': 'string',\n",
       "       'description': 'The city and state e.g. San Francisco, CA'},\n",
       "      'unit': {'type': 'string', 'enum': ['c', 'f']}},\n",
       "     'required': ['location']},\n",
       "    'description': 'Get the weather in location'},\n",
       "   'type': 'function'}]}"
      ]
     },
     "metadata": {},
     "output_type": "display_data"
    }
   ],
   "source": [
    "from openai.types.beta.threads.run import Run\n",
    "\n",
    "run: Run = client.beta.threads.runs.create(\n",
    "    thread_id=thread.id,\n",
    "    assistant_id=assistant.id,  \n",
    ")\n",
    "\n",
    "show_json(\"Run\",run)"
   ]
  },
  {
   "cell_type": "code",
   "execution_count": 54,
   "metadata": {},
   "outputs": [
    {
     "data": {
      "text/plain": [
       "'Run Status'"
      ]
     },
     "metadata": {},
     "output_type": "display_data"
    },
    {
     "data": {
      "text/plain": [
       "{'data': [{'id': 'step_dgjsR7YYieBOMK4MooHk3fIa',\n",
       "   'assistant_id': 'asst_MZe4YICwxFRmVpLeDQhHMI8Y',\n",
       "   'cancelled_at': None,\n",
       "   'completed_at': None,\n",
       "   'created_at': 1701990919,\n",
       "   'expired_at': None,\n",
       "   'failed_at': None,\n",
       "   'last_error': None,\n",
       "   'metadata': None,\n",
       "   'object': 'thread.run.step',\n",
       "   'run_id': 'run_5SPvKIuwzoN1GujIdmHJuDxk',\n",
       "   'status': 'in_progress',\n",
       "   'step_details': {'message_creation': None,\n",
       "    'type': 'tool_calls',\n",
       "    'tool_calls': [{'id': 'call_tplmPgZe2Ilp5PkX0mWHwagv',\n",
       "      'type': 'function',\n",
       "      'function': {'name': 'getCurrentWeather',\n",
       "       'arguments': '{\"location\":\"Tokyo\",\"unit\":\"c\"}'}}]},\n",
       "   'thread_id': 'thread_IeJuODd3KQBiAGnmQpjqCNgo',\n",
       "   'type': 'tool_calls',\n",
       "   'expires_at': 1701991518}],\n",
       " 'object': 'list',\n",
       " 'first_id': 'step_dgjsR7YYieBOMK4MooHk3fIa',\n",
       " 'last_id': 'step_dgjsR7YYieBOMK4MooHk3fIa',\n",
       " 'has_more': False}"
      ]
     },
     "metadata": {},
     "output_type": "display_data"
    },
    {
     "name": "stdout",
     "output_type": "stream",
     "text": [
      "in_progress\n"
     ]
    },
    {
     "data": {
      "text/plain": [
       "'Run Status'"
      ]
     },
     "metadata": {},
     "output_type": "display_data"
    },
    {
     "data": {
      "text/plain": [
       "{'data': [{'id': 'step_dgjsR7YYieBOMK4MooHk3fIa',\n",
       "   'assistant_id': 'asst_MZe4YICwxFRmVpLeDQhHMI8Y',\n",
       "   'cancelled_at': None,\n",
       "   'completed_at': None,\n",
       "   'created_at': 1701990919,\n",
       "   'expired_at': None,\n",
       "   'failed_at': None,\n",
       "   'last_error': None,\n",
       "   'metadata': None,\n",
       "   'object': 'thread.run.step',\n",
       "   'run_id': 'run_5SPvKIuwzoN1GujIdmHJuDxk',\n",
       "   'status': 'in_progress',\n",
       "   'step_details': {'message_creation': None,\n",
       "    'type': 'tool_calls',\n",
       "    'tool_calls': [{'id': 'call_tplmPgZe2Ilp5PkX0mWHwagv',\n",
       "      'type': 'function',\n",
       "      'function': {'name': 'getCurrentWeather',\n",
       "       'arguments': '{\"location\":\"Tokyo\",\"unit\":\"c\"}'}}]},\n",
       "   'thread_id': 'thread_IeJuODd3KQBiAGnmQpjqCNgo',\n",
       "   'type': 'tool_calls',\n",
       "   'expires_at': 1701991518}],\n",
       " 'object': 'list',\n",
       " 'first_id': 'step_dgjsR7YYieBOMK4MooHk3fIa',\n",
       " 'last_id': 'step_dgjsR7YYieBOMK4MooHk3fIa',\n",
       " 'has_more': False}"
      ]
     },
     "metadata": {},
     "output_type": "display_data"
    },
    {
     "name": "stdout",
     "output_type": "stream",
     "text": [
      "requires_action\n"
     ]
    },
    {
     "data": {
      "text/plain": [
       "'Run Status'"
      ]
     },
     "metadata": {},
     "output_type": "display_data"
    },
    {
     "data": {
      "text/plain": [
       "{'data': [{'id': 'step_wOCC3dDPurD0ETVroSe0vRVr',\n",
       "   'assistant_id': 'asst_MZe4YICwxFRmVpLeDQhHMI8Y',\n",
       "   'cancelled_at': None,\n",
       "   'completed_at': None,\n",
       "   'created_at': 1701990927,\n",
       "   'expired_at': None,\n",
       "   'failed_at': None,\n",
       "   'last_error': None,\n",
       "   'metadata': None,\n",
       "   'object': 'thread.run.step',\n",
       "   'run_id': 'run_5SPvKIuwzoN1GujIdmHJuDxk',\n",
       "   'status': 'in_progress',\n",
       "   'step_details': {'message_creation': {'message_id': 'msg_VKeVx5NkyJpohZdynXT55XzQ'},\n",
       "    'type': 'message_creation'},\n",
       "   'thread_id': 'thread_IeJuODd3KQBiAGnmQpjqCNgo',\n",
       "   'type': 'message_creation',\n",
       "   'expires_at': 1701991518},\n",
       "  {'id': 'step_dgjsR7YYieBOMK4MooHk3fIa',\n",
       "   'assistant_id': 'asst_MZe4YICwxFRmVpLeDQhHMI8Y',\n",
       "   'cancelled_at': None,\n",
       "   'completed_at': 1701990926,\n",
       "   'created_at': 1701990919,\n",
       "   'expired_at': None,\n",
       "   'failed_at': None,\n",
       "   'last_error': None,\n",
       "   'metadata': None,\n",
       "   'object': 'thread.run.step',\n",
       "   'run_id': 'run_5SPvKIuwzoN1GujIdmHJuDxk',\n",
       "   'status': 'completed',\n",
       "   'step_details': {'tool_calls': [{'id': 'call_tplmPgZe2Ilp5PkX0mWHwagv',\n",
       "      'function': {'arguments': '{\"location\":\"Tokyo\",\"unit\":\"c\"}',\n",
       "       'name': 'getCurrentWeather',\n",
       "       'output': '{\"location\": \"Tokyo\", \"temperature\": \"10\", \"unit\": \"celsius\"}'},\n",
       "      'type': 'function'}],\n",
       "    'type': 'tool_calls'},\n",
       "   'thread_id': 'thread_IeJuODd3KQBiAGnmQpjqCNgo',\n",
       "   'type': 'tool_calls',\n",
       "   'expires_at': 1701991518}],\n",
       " 'object': 'list',\n",
       " 'first_id': 'step_wOCC3dDPurD0ETVroSe0vRVr',\n",
       " 'last_id': 'step_dgjsR7YYieBOMK4MooHk3fIa',\n",
       " 'has_more': False}"
      ]
     },
     "metadata": {},
     "output_type": "display_data"
    },
    {
     "name": "stdout",
     "output_type": "stream",
     "text": [
      "in_progress\n"
     ]
    },
    {
     "data": {
      "text/plain": [
       "'Run Status'"
      ]
     },
     "metadata": {},
     "output_type": "display_data"
    },
    {
     "data": {
      "text/plain": [
       "{'data': [{'id': 'step_wOCC3dDPurD0ETVroSe0vRVr',\n",
       "   'assistant_id': 'asst_MZe4YICwxFRmVpLeDQhHMI8Y',\n",
       "   'cancelled_at': None,\n",
       "   'completed_at': 1701990927,\n",
       "   'created_at': 1701990927,\n",
       "   'expired_at': None,\n",
       "   'failed_at': None,\n",
       "   'last_error': None,\n",
       "   'metadata': None,\n",
       "   'object': 'thread.run.step',\n",
       "   'run_id': 'run_5SPvKIuwzoN1GujIdmHJuDxk',\n",
       "   'status': 'completed',\n",
       "   'step_details': {'message_creation': {'message_id': 'msg_VKeVx5NkyJpohZdynXT55XzQ'},\n",
       "    'type': 'message_creation'},\n",
       "   'thread_id': 'thread_IeJuODd3KQBiAGnmQpjqCNgo',\n",
       "   'type': 'message_creation',\n",
       "   'expires_at': None},\n",
       "  {'id': 'step_dgjsR7YYieBOMK4MooHk3fIa',\n",
       "   'assistant_id': 'asst_MZe4YICwxFRmVpLeDQhHMI8Y',\n",
       "   'cancelled_at': None,\n",
       "   'completed_at': 1701990926,\n",
       "   'created_at': 1701990919,\n",
       "   'expired_at': None,\n",
       "   'failed_at': None,\n",
       "   'last_error': None,\n",
       "   'metadata': None,\n",
       "   'object': 'thread.run.step',\n",
       "   'run_id': 'run_5SPvKIuwzoN1GujIdmHJuDxk',\n",
       "   'status': 'completed',\n",
       "   'step_details': {'tool_calls': [{'id': 'call_tplmPgZe2Ilp5PkX0mWHwagv',\n",
       "      'function': {'arguments': '{\"location\":\"Tokyo\",\"unit\":\"c\"}',\n",
       "       'name': 'getCurrentWeather',\n",
       "       'output': '{\"location\": \"Tokyo\", \"temperature\": \"10\", \"unit\": \"celsius\"}'},\n",
       "      'type': 'function'}],\n",
       "    'type': 'tool_calls'},\n",
       "   'thread_id': 'thread_IeJuODd3KQBiAGnmQpjqCNgo',\n",
       "   'type': 'tool_calls',\n",
       "   'expires_at': None}],\n",
       " 'object': 'list',\n",
       " 'first_id': 'step_wOCC3dDPurD0ETVroSe0vRVr',\n",
       " 'last_id': 'step_dgjsR7YYieBOMK4MooHk3fIa',\n",
       " 'has_more': False}"
      ]
     },
     "metadata": {},
     "output_type": "display_data"
    },
    {
     "name": "stdout",
     "output_type": "stream",
     "text": [
      "completed\n",
      "User: What is the nickname of tokyo\n",
      "\n",
      "Assistant: The nickname of Tokyo is \"TK\".\n",
      "\n",
      "User: What is temprature in tokyo\n",
      "\n",
      "Assistant: The current temperature in Tokyo is 10°C.\n",
      "\n"
     ]
    }
   ],
   "source": [
    "available_functions = {\n",
    "    \"getNickname\": getNickname,\n",
    "    \"getCurrentWeather\": getCurrentWeather\n",
    "}\n",
    "\n",
    "while True:\n",
    "    run = client.beta.threads.runs.retrieve(thread_id=thread.id,run_id=run.id)\n",
    "    runSteps = client.beta.threads.runs.steps.list(thread_id=thread.id,run_id=run.id)\n",
    "    show_json(\"Run Status\", runSteps)\n",
    "    \n",
    "    if run.status == \"requires_action\":\n",
    "        print(\"requires_action\")\n",
    "\n",
    "        if run.required_action.submit_tool_outputs and run.required_action.submit_tool_outputs.tool_calls:\n",
    "            tools_outputs = []\n",
    "            tool_calls = run.required_action.submit_tool_outputs.tool_calls\n",
    "            for toolCall in tool_calls:\n",
    "                function_name = toolCall.function.name\n",
    "                function_args = json.loads(toolCall.function.arguments)\n",
    "                if function_name in available_functions:\n",
    "                    function_to_call = available_functions[function_name]\n",
    "                    response = function_to_call(**function_args)\n",
    "                    tools_outputs.append(\n",
    "                        {\n",
    "                            \"tool_call_id\":toolCall.id,\n",
    "                            \"output\": response\n",
    "                        }\n",
    "                    )\n",
    "            client.beta.threads.runs.submit_tool_outputs(\n",
    "                thread_id=thread.id,\n",
    "                run_id=run.id,\n",
    "                tool_outputs=tools_outputs\n",
    "            )\n",
    "        \n",
    "    elif run.status == \"completed\":\n",
    "        print(\"completed\")\n",
    "        messages: list[ThreadMessage] = client.beta.threads.messages.list(thread_id=thread.id)\n",
    "        for message in reversed(messages.data):\n",
    "            role_label = \"User\" if message.role == \"user\" else \"Assistant\"\n",
    "            message_content = message.content[0].text.value\n",
    "            print(f\"{role_label}: {message_content}\\n\")\n",
    "        break\n",
    "    elif run.status == \"failed\":\n",
    "        print(\"failed\")\n",
    "        break\n",
    "    elif run.status in [\"queued\",\"in_progress\"]:\n",
    "        print(run.status)\n",
    "        time.sleep(5)\n",
    "    else:\n",
    "        print(f\"Unexpected status: {run.status}\")\n",
    "        break"
   ]
  },
  {
   "cell_type": "code",
   "execution_count": null,
   "metadata": {},
   "outputs": [],
   "source": []
  }
 ],
 "metadata": {
  "kernelspec": {
   "display_name": "genai3_11",
   "language": "python",
   "name": "python3"
  },
  "language_info": {
   "codemirror_mode": {
    "name": "ipython",
    "version": 3
   },
   "file_extension": ".py",
   "mimetype": "text/x-python",
   "name": "python",
   "nbconvert_exporter": "python",
   "pygments_lexer": "ipython3",
   "version": "3.11.5"
  }
 },
 "nbformat": 4,
 "nbformat_minor": 2
}
