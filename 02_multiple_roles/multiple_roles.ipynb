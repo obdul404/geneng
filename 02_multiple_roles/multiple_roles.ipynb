{
 "cells": [
  {
   "cell_type": "code",
   "execution_count": 1,
   "metadata": {},
   "outputs": [
    {
     "name": "stdout",
     "output_type": "stream",
     "text": [
      "Multiple Roles\n"
     ]
    }
   ],
   "source": [
    "print(\"Multiple Roles\")"
   ]
  },
  {
   "cell_type": "code",
   "execution_count": 5,
   "metadata": {},
   "outputs": [],
   "source": [
    "from openai import OpenAI\n",
    "from dotenv import load_dotenv,find_dotenv\n",
    "_ : bool = load_dotenv(find_dotenv())\n",
    "\n",
    "client : OpenAI = OpenAI()"
   ]
  },
  {
   "cell_type": "code",
   "execution_count": 7,
   "metadata": {},
   "outputs": [],
   "source": [
    "from openai.types.chat.chat_completion import ChatCompletion\n",
    "\n",
    "def chat_completion(systemRole:str,userRole:str)->str:\n",
    "    response: ChatCompletion = client.chat.completions.create(\n",
    "        model  = \"gpt-3.5-turbo-1106\",\n",
    "        messages=[\n",
    "            {\"role\":\"system\" , \"content\" : systemRole},\n",
    "            {\"role\":\"user\" , \"content\" : userRole}\n",
    "        ]\n",
    "    )\n",
    "\n",
    "    return response.choices[0].message.content"
   ]
  },
  {
   "cell_type": "code",
   "execution_count": 8,
   "metadata": {},
   "outputs": [
    {
     "name": "stdout",
     "output_type": "stream",
     "text": [
      "Sure! Big O notation is a way of expressing the time complexity of an algorithm in computer science. It is used to analyze the efficiency of algorithms and how their running time grows as the input size increases. \n",
      "\n",
      "In simple terms, Big O notation describes the worst-case scenario for how the time or space required to run an algorithm will grow as the input size gets larger. It provides an upper bound on the growth rate of the algorithm's performance.\n",
      "\n",
      "For example, if an algorithm has a time complexity of O(n), it means that the time taken to run the algorithm grows linearly with the size of the input (n). If the time complexity is O(n^2), it means that the time taken grows quadratically with the size of the input.\n",
      "\n",
      "Big O notation helps in comparing and analyzing different algorithms to determine which one is more efficient for a given problem and input size. And it's an important concept in algorithm analysis and design.\n"
     ]
    }
   ],
   "source": [
    "print(chat_completion(\"You are computer science teacher\",\"explain big O notation\"))"
   ]
  },
  {
   "cell_type": "code",
   "execution_count": null,
   "metadata": {},
   "outputs": [],
   "source": []
  }
 ],
 "metadata": {
  "kernelspec": {
   "display_name": "myenv3_12",
   "language": "python",
   "name": "python3"
  },
  "language_info": {
   "codemirror_mode": {
    "name": "ipython",
    "version": 3
   },
   "file_extension": ".py",
   "mimetype": "text/x-python",
   "name": "python",
   "nbconvert_exporter": "python",
   "pygments_lexer": "ipython3",
   "version": "3.11.5"
  }
 },
 "nbformat": 4,
 "nbformat_minor": 2
}
