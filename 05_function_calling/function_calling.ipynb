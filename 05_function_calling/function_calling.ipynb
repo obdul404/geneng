{
 "cells": [
  {
   "cell_type": "code",
   "execution_count": 49,
   "metadata": {},
   "outputs": [
    {
     "name": "stdout",
     "output_type": "stream",
     "text": [
      "Function Calling\n"
     ]
    }
   ],
   "source": [
    "print(\"Function Calling\")"
   ]
  },
  {
   "cell_type": "code",
   "execution_count": 50,
   "metadata": {},
   "outputs": [],
   "source": [
    "import json\n",
    "from typing import List,Dict\n",
    "from openai import OpenAI\n",
    "from openai.types.chat.chat_completion import ChatCompletion,ChatCompletionMessage\n",
    "client : OpenAI = OpenAI()"
   ]
  },
  {
   "cell_type": "code",
   "execution_count": 55,
   "metadata": {},
   "outputs": [],
   "source": [
    "def get_current_weather(location:str , unit:str = \"fahrenheit\")->str:\n",
    "    if \"lahore\" in location.lower():\n",
    "        return json.dumps({\"location\":\"Lahore\",\"temperature\":\"10\",\"unit\":\"celsius\"})\n",
    "    elif \"islamabad\" in location.lower():\n",
    "        return json.dumps({\"location\":\"Islamabad\",\"temperature\":\"5\",\"unit\":\"celsius\"})\n",
    "    else:\n",
    "        return json.dumps({\"location\": location, \"temperature\": \"unknown\"})\n",
    "    "
   ]
  },
  {
   "cell_type": "code",
   "execution_count": 56,
   "metadata": {},
   "outputs": [],
   "source": [
    "def first_request(chat:List[Dict])->ChatCompletion:\n",
    "    response : ChatCompletion = client.chat.completions.create(\n",
    "        messages=chat,\n",
    "        model= \"gpt-3.5-turbo-1106\",\n",
    "        tool_choice=\"auto\",\n",
    "        tools=[{\n",
    "            \"type\":\"function\",\n",
    "            \"function\":{\n",
    "                \"name\":\"get_current_weather\",\n",
    "                \"description\":\" Get the current weather in a given location\",\n",
    "                \"parameters\":{\n",
    "                    \"type\":\"object\",\n",
    "                    \"properties\":{\n",
    "                        \"location\":{\n",
    "                            \"type\":\"string\",\n",
    "                            \"description\":\"The city or state like New york ,USA\"\n",
    "                        },\n",
    "                        \"unit\":{\n",
    "                            \"type\":\"string\",\n",
    "                            \"enum\":[\"celsius\",\"fahrenheit\"]\n",
    "                        }\n",
    "                    },\n",
    "                    \"required\":[\"location\"]\n",
    "                }\n",
    "            }\n",
    "        }] \n",
    "    )\n",
    "    return response\n",
    "\n",
    "def orchestration(message : ChatCompletionMessage ,chat:List[Dict])->bool:\n",
    "    if message.tool_calls:\n",
    "        \n",
    "        available_function = {\n",
    "            \"get_current_weather\" : get_current_weather\n",
    "        }\n",
    "        # extend conversation with assistant's reply\n",
    "        chat.append(message)\n",
    "\n",
    "        for tool_call in message.tool_calls:\n",
    "            function_name = tool_call.function.name\n",
    "            function_to_call = available_function[function_name]\n",
    "            function_args = json.loads(tool_call.function.arguments)\n",
    "            function_response = function_to_call(\n",
    "                location=function_args.get(\"location\"),\n",
    "                unit=function_args.get(\"unit\")\n",
    "            )\n",
    "            chat.append({\n",
    "                \"tool_call_id\":tool_call.id,\n",
    "                \"role\":\"tool\",\n",
    "                \"name\":function_name,\n",
    "                \"content\":function_response\n",
    "            })\n",
    "\n",
    "        return True\n",
    "    \n",
    "    else:\n",
    "        return False\n",
    "\n",
    "def second_request(chat:List[Dict]):\n",
    "    response: ChatCompletion = client.chat.completions.create(\n",
    "        messages=chat,\n",
    "        model= \"gpt-3.5-turbo-1106\",\n",
    "    )\n",
    "    return response    \n",
    "\n",
    "def run_conversation(userPrompt:str)->str:\n",
    "    chat: List[Dict] =  [{\n",
    "            \"role\":\"user\",\n",
    "            \"content\":userPrompt\n",
    "        }]\n",
    "    ###### Step 1: First Request\n",
    "    \n",
    "    #send user prompt + function details to LLM\n",
    "    first_response: ChatCompletion = first_request(chat)\n",
    "    first_message : ChatCompletionMessage = first_response.choices[0].message\n",
    "    \n",
    "    ##### Step 2: Check if the model wanted to call a function then run it and update chat\n",
    "    callAgain = orchestration(first_message,chat)\n",
    "    \n",
    "    if not callAgain:\n",
    "        return first_message.content\n",
    "    \n",
    "    ##### Step 3: send second request to to get LLM Response in Natural language\n",
    "    second_response: ChatCompletion = second_request(chat)\n",
    "    return second_response.choices[0].message.content"
   ]
  },
  {
   "cell_type": "code",
   "execution_count": 57,
   "metadata": {},
   "outputs": [
    {
     "data": {
      "text/plain": [
       "'The temperature in Lahore today is 10°C and in Islamabad it is 5°C.'"
      ]
     },
     "execution_count": 57,
     "metadata": {},
     "output_type": "execute_result"
    }
   ],
   "source": [
    "run_conversation(\"what's the temprature in Lahore,Islamabad today\")"
   ]
  },
  {
   "cell_type": "code",
   "execution_count": 58,
   "metadata": {},
   "outputs": [
    {
     "data": {
      "text/plain": [
       "'100 + 1 equals 101.'"
      ]
     },
     "execution_count": 58,
     "metadata": {},
     "output_type": "execute_result"
    }
   ],
   "source": [
    "run_conversation(\"what is 100+1?\")"
   ]
  },
  {
   "cell_type": "code",
   "execution_count": 59,
   "metadata": {},
   "outputs": [
    {
     "data": {
      "text/plain": [
       "'The current temperature in Lahore is 10°C, in Islamabad it is 5°C, and for Kasur the temperature is currently unknown.'"
      ]
     },
     "execution_count": 59,
     "metadata": {},
     "output_type": "execute_result"
    }
   ],
   "source": [
    "run_conversation(\"what's the temprature in Lahore,Islamabad and Kasur today\")"
   ]
  },
  {
   "cell_type": "code",
   "execution_count": null,
   "metadata": {},
   "outputs": [],
   "source": []
  }
 ],
 "metadata": {
  "kernelspec": {
   "display_name": "genai3_11",
   "language": "python",
   "name": "python3"
  },
  "language_info": {
   "codemirror_mode": {
    "name": "ipython",
    "version": 3
   },
   "file_extension": ".py",
   "mimetype": "text/x-python",
   "name": "python",
   "nbconvert_exporter": "python",
   "pygments_lexer": "ipython3",
   "version": "3.11.5"
  }
 },
 "nbformat": 4,
 "nbformat_minor": 2
}
